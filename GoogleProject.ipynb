{
  "cells": [
    {
      "cell_type": "markdown",
      "metadata": {
        "id": "oleYswocukWq"
      },
      "source": [
        "### Predicting the stock prices of Google using LSTM\n",
        "\n",
        "LSTM stands for Long Short Term Memory"
      ]
    },
    {
      "cell_type": "code",
      "execution_count": null,
      "metadata": {
        "id": "S1PhEuhxugoM"
      },
      "outputs": [],
      "source": [
        "import numpy as np                      # Used for numerical operations\n",
        "import pandas as pd                     # Used for data manipulation and analysis\n",
        "import matplotlib.pyplot as plt         # Used for plotting graphs\n",
        "from sklearn.preprocessing import MinMaxScaler # Scales the data to a range (0, 1) which is important for LSTM networks\n",
        "from keras.models import Sequential\n",
        "from keras.layers import Dense, LSTM, Dropout   # Used to create and train the LSTM model\n",
        "from sklearn.metrics import mean_squared_error\n",
        "from sklearn.metrics import r2_score"
      ]
    },
    {
      "cell_type": "markdown",
      "metadata": {
        "id": "Sltsijc7kaCw"
      },
      "source": [
        "**Uploading and Reading the Data**\n"
      ]
    },
    {
      "cell_type": "code",
      "execution_count": null,
      "metadata": {
        "colab": {
          "base_uri": "https://localhost:8080/",
          "height": 206
        },
        "id": "HWVkaYOrF-uV",
        "outputId": "3ec5e39c-7ab2-422c-8f46-63a1e9992714"
      },
      "outputs": [
        {
          "data": {
            "application/vnd.google.colaboratory.intrinsic+json": {
              "summary": "{\n  \"name\": \"data\",\n  \"rows\": 1258,\n  \"fields\": [\n    {\n      \"column\": \"Date\",\n      \"properties\": {\n        \"dtype\": \"object\",\n        \"num_unique_values\": 1258,\n        \"samples\": [\n          \"3/28/2014\",\n          \"5/29/2012\",\n          \"3/16/2012\"\n        ],\n        \"semantic_type\": \"\",\n        \"description\": \"\"\n      }\n    },\n    {\n      \"column\": \"Open\",\n      \"properties\": {\n        \"dtype\": \"number\",\n        \"std\": 151.90444191569622,\n        \"min\": 279.12,\n        \"max\": 816.68,\n        \"num_unique_values\": 1215,\n        \"samples\": [\n          509.6,\n          536.91,\n          302.89\n        ],\n        \"semantic_type\": \"\",\n        \"description\": \"\"\n      }\n    },\n    {\n      \"column\": \"High\",\n      \"properties\": {\n        \"dtype\": \"number\",\n        \"std\": 153.0088108666111,\n        \"min\": 281.21,\n        \"max\": 816.68,\n        \"num_unique_values\": 1219,\n        \"samples\": [\n          564.88,\n          376.39,\n          304.45\n        ],\n        \"semantic_type\": \"\",\n        \"description\": \"\"\n      }\n    },\n    {\n      \"column\": \"Low\",\n      \"properties\": {\n        \"dtype\": \"number\",\n        \"std\": 150.5528073376813,\n        \"min\": 277.22,\n        \"max\": 805.14,\n        \"num_unique_values\": 1223,\n        \"samples\": [\n          583.4,\n          341.56,\n          335.78\n        ],\n        \"semantic_type\": \"\",\n        \"description\": \"\"\n      }\n    },\n    {\n      \"column\": \"Close\",\n      \"properties\": {\n        \"dtype\": \"string\",\n        \"num_unique_values\": 1241,\n        \"samples\": [\n          \"600.7\",\n          \"605.89\",\n          \"704.36\"\n        ],\n        \"semantic_type\": \"\",\n        \"description\": \"\"\n      }\n    },\n    {\n      \"column\": \"Volume\",\n      \"properties\": {\n        \"dtype\": \"string\",\n        \"num_unique_values\": 1240,\n        \"samples\": [\n          \"3,737,100\",\n          \"7,884,700\",\n          \"2,920,800\"\n        ],\n        \"semantic_type\": \"\",\n        \"description\": \"\"\n      }\n    }\n  ]\n}",
              "type": "dataframe",
              "variable_name": "data"
            },
            "text/html": [
              "\n",
              "  <div id=\"df-df7c0cc9-6fcf-4a4a-bcf4-0adf0877bbd6\" class=\"colab-df-container\">\n",
              "    <div>\n",
              "<style scoped>\n",
              "    .dataframe tbody tr th:only-of-type {\n",
              "        vertical-align: middle;\n",
              "    }\n",
              "\n",
              "    .dataframe tbody tr th {\n",
              "        vertical-align: top;\n",
              "    }\n",
              "\n",
              "    .dataframe thead th {\n",
              "        text-align: right;\n",
              "    }\n",
              "</style>\n",
              "<table border=\"1\" class=\"dataframe\">\n",
              "  <thead>\n",
              "    <tr style=\"text-align: right;\">\n",
              "      <th></th>\n",
              "      <th>Date</th>\n",
              "      <th>Open</th>\n",
              "      <th>High</th>\n",
              "      <th>Low</th>\n",
              "      <th>Close</th>\n",
              "      <th>Volume</th>\n",
              "    </tr>\n",
              "  </thead>\n",
              "  <tbody>\n",
              "    <tr>\n",
              "      <th>0</th>\n",
              "      <td>1/3/2012</td>\n",
              "      <td>325.25</td>\n",
              "      <td>332.83</td>\n",
              "      <td>324.97</td>\n",
              "      <td>663.59</td>\n",
              "      <td>7,380,500</td>\n",
              "    </tr>\n",
              "    <tr>\n",
              "      <th>1</th>\n",
              "      <td>1/4/2012</td>\n",
              "      <td>331.27</td>\n",
              "      <td>333.87</td>\n",
              "      <td>329.08</td>\n",
              "      <td>666.45</td>\n",
              "      <td>5,749,400</td>\n",
              "    </tr>\n",
              "    <tr>\n",
              "      <th>2</th>\n",
              "      <td>1/5/2012</td>\n",
              "      <td>329.83</td>\n",
              "      <td>330.75</td>\n",
              "      <td>326.89</td>\n",
              "      <td>657.21</td>\n",
              "      <td>6,590,300</td>\n",
              "    </tr>\n",
              "    <tr>\n",
              "      <th>3</th>\n",
              "      <td>1/6/2012</td>\n",
              "      <td>328.34</td>\n",
              "      <td>328.77</td>\n",
              "      <td>323.68</td>\n",
              "      <td>648.24</td>\n",
              "      <td>5,405,900</td>\n",
              "    </tr>\n",
              "    <tr>\n",
              "      <th>4</th>\n",
              "      <td>1/9/2012</td>\n",
              "      <td>322.04</td>\n",
              "      <td>322.29</td>\n",
              "      <td>309.46</td>\n",
              "      <td>620.76</td>\n",
              "      <td>11,688,800</td>\n",
              "    </tr>\n",
              "  </tbody>\n",
              "</table>\n",
              "</div>\n",
              "    <div class=\"colab-df-buttons\">\n",
              "\n",
              "  <div class=\"colab-df-container\">\n",
              "    <button class=\"colab-df-convert\" onclick=\"convertToInteractive('df-df7c0cc9-6fcf-4a4a-bcf4-0adf0877bbd6')\"\n",
              "            title=\"Convert this dataframe to an interactive table.\"\n",
              "            style=\"display:none;\">\n",
              "\n",
              "  <svg xmlns=\"http://www.w3.org/2000/svg\" height=\"24px\" viewBox=\"0 -960 960 960\">\n",
              "    <path d=\"M120-120v-720h720v720H120Zm60-500h600v-160H180v160Zm220 220h160v-160H400v160Zm0 220h160v-160H400v160ZM180-400h160v-160H180v160Zm440 0h160v-160H620v160ZM180-180h160v-160H180v160Zm440 0h160v-160H620v160Z\"/>\n",
              "  </svg>\n",
              "    </button>\n",
              "\n",
              "  <style>\n",
              "    .colab-df-container {\n",
              "      display:flex;\n",
              "      gap: 12px;\n",
              "    }\n",
              "\n",
              "    .colab-df-convert {\n",
              "      background-color: #E8F0FE;\n",
              "      border: none;\n",
              "      border-radius: 50%;\n",
              "      cursor: pointer;\n",
              "      display: none;\n",
              "      fill: #1967D2;\n",
              "      height: 32px;\n",
              "      padding: 0 0 0 0;\n",
              "      width: 32px;\n",
              "    }\n",
              "\n",
              "    .colab-df-convert:hover {\n",
              "      background-color: #E2EBFA;\n",
              "      box-shadow: 0px 1px 2px rgba(60, 64, 67, 0.3), 0px 1px 3px 1px rgba(60, 64, 67, 0.15);\n",
              "      fill: #174EA6;\n",
              "    }\n",
              "\n",
              "    .colab-df-buttons div {\n",
              "      margin-bottom: 4px;\n",
              "    }\n",
              "\n",
              "    [theme=dark] .colab-df-convert {\n",
              "      background-color: #3B4455;\n",
              "      fill: #D2E3FC;\n",
              "    }\n",
              "\n",
              "    [theme=dark] .colab-df-convert:hover {\n",
              "      background-color: #434B5C;\n",
              "      box-shadow: 0px 1px 3px 1px rgba(0, 0, 0, 0.15);\n",
              "      filter: drop-shadow(0px 1px 2px rgba(0, 0, 0, 0.3));\n",
              "      fill: #FFFFFF;\n",
              "    }\n",
              "  </style>\n",
              "\n",
              "    <script>\n",
              "      const buttonEl =\n",
              "        document.querySelector('#df-df7c0cc9-6fcf-4a4a-bcf4-0adf0877bbd6 button.colab-df-convert');\n",
              "      buttonEl.style.display =\n",
              "        google.colab.kernel.accessAllowed ? 'block' : 'none';\n",
              "\n",
              "      async function convertToInteractive(key) {\n",
              "        const element = document.querySelector('#df-df7c0cc9-6fcf-4a4a-bcf4-0adf0877bbd6');\n",
              "        const dataTable =\n",
              "          await google.colab.kernel.invokeFunction('convertToInteractive',\n",
              "                                                    [key], {});\n",
              "        if (!dataTable) return;\n",
              "\n",
              "        const docLinkHtml = 'Like what you see? Visit the ' +\n",
              "          '<a target=\"_blank\" href=https://colab.research.google.com/notebooks/data_table.ipynb>data table notebook</a>'\n",
              "          + ' to learn more about interactive tables.';\n",
              "        element.innerHTML = '';\n",
              "        dataTable['output_type'] = 'display_data';\n",
              "        await google.colab.output.renderOutput(dataTable, element);\n",
              "        const docLink = document.createElement('div');\n",
              "        docLink.innerHTML = docLinkHtml;\n",
              "        element.appendChild(docLink);\n",
              "      }\n",
              "    </script>\n",
              "  </div>\n",
              "\n",
              "\n",
              "    <div id=\"df-fb0dad95-662a-4a1b-85ee-b70571e021db\">\n",
              "      <button class=\"colab-df-quickchart\" onclick=\"quickchart('df-fb0dad95-662a-4a1b-85ee-b70571e021db')\"\n",
              "                title=\"Suggest charts\"\n",
              "                style=\"display:none;\">\n",
              "\n",
              "<svg xmlns=\"http://www.w3.org/2000/svg\" height=\"24px\"viewBox=\"0 0 24 24\"\n",
              "     width=\"24px\">\n",
              "    <g>\n",
              "        <path d=\"M19 3H5c-1.1 0-2 .9-2 2v14c0 1.1.9 2 2 2h14c1.1 0 2-.9 2-2V5c0-1.1-.9-2-2-2zM9 17H7v-7h2v7zm4 0h-2V7h2v10zm4 0h-2v-4h2v4z\"/>\n",
              "    </g>\n",
              "</svg>\n",
              "      </button>\n",
              "\n",
              "<style>\n",
              "  .colab-df-quickchart {\n",
              "      --bg-color: #E8F0FE;\n",
              "      --fill-color: #1967D2;\n",
              "      --hover-bg-color: #E2EBFA;\n",
              "      --hover-fill-color: #174EA6;\n",
              "      --disabled-fill-color: #AAA;\n",
              "      --disabled-bg-color: #DDD;\n",
              "  }\n",
              "\n",
              "  [theme=dark] .colab-df-quickchart {\n",
              "      --bg-color: #3B4455;\n",
              "      --fill-color: #D2E3FC;\n",
              "      --hover-bg-color: #434B5C;\n",
              "      --hover-fill-color: #FFFFFF;\n",
              "      --disabled-bg-color: #3B4455;\n",
              "      --disabled-fill-color: #666;\n",
              "  }\n",
              "\n",
              "  .colab-df-quickchart {\n",
              "    background-color: var(--bg-color);\n",
              "    border: none;\n",
              "    border-radius: 50%;\n",
              "    cursor: pointer;\n",
              "    display: none;\n",
              "    fill: var(--fill-color);\n",
              "    height: 32px;\n",
              "    padding: 0;\n",
              "    width: 32px;\n",
              "  }\n",
              "\n",
              "  .colab-df-quickchart:hover {\n",
              "    background-color: var(--hover-bg-color);\n",
              "    box-shadow: 0 1px 2px rgba(60, 64, 67, 0.3), 0 1px 3px 1px rgba(60, 64, 67, 0.15);\n",
              "    fill: var(--button-hover-fill-color);\n",
              "  }\n",
              "\n",
              "  .colab-df-quickchart-complete:disabled,\n",
              "  .colab-df-quickchart-complete:disabled:hover {\n",
              "    background-color: var(--disabled-bg-color);\n",
              "    fill: var(--disabled-fill-color);\n",
              "    box-shadow: none;\n",
              "  }\n",
              "\n",
              "  .colab-df-spinner {\n",
              "    border: 2px solid var(--fill-color);\n",
              "    border-color: transparent;\n",
              "    border-bottom-color: var(--fill-color);\n",
              "    animation:\n",
              "      spin 1s steps(1) infinite;\n",
              "  }\n",
              "\n",
              "  @keyframes spin {\n",
              "    0% {\n",
              "      border-color: transparent;\n",
              "      border-bottom-color: var(--fill-color);\n",
              "      border-left-color: var(--fill-color);\n",
              "    }\n",
              "    20% {\n",
              "      border-color: transparent;\n",
              "      border-left-color: var(--fill-color);\n",
              "      border-top-color: var(--fill-color);\n",
              "    }\n",
              "    30% {\n",
              "      border-color: transparent;\n",
              "      border-left-color: var(--fill-color);\n",
              "      border-top-color: var(--fill-color);\n",
              "      border-right-color: var(--fill-color);\n",
              "    }\n",
              "    40% {\n",
              "      border-color: transparent;\n",
              "      border-right-color: var(--fill-color);\n",
              "      border-top-color: var(--fill-color);\n",
              "    }\n",
              "    60% {\n",
              "      border-color: transparent;\n",
              "      border-right-color: var(--fill-color);\n",
              "    }\n",
              "    80% {\n",
              "      border-color: transparent;\n",
              "      border-right-color: var(--fill-color);\n",
              "      border-bottom-color: var(--fill-color);\n",
              "    }\n",
              "    90% {\n",
              "      border-color: transparent;\n",
              "      border-bottom-color: var(--fill-color);\n",
              "    }\n",
              "  }\n",
              "</style>\n",
              "\n",
              "      <script>\n",
              "        async function quickchart(key) {\n",
              "          const quickchartButtonEl =\n",
              "            document.querySelector('#' + key + ' button');\n",
              "          quickchartButtonEl.disabled = true;  // To prevent multiple clicks.\n",
              "          quickchartButtonEl.classList.add('colab-df-spinner');\n",
              "          try {\n",
              "            const charts = await google.colab.kernel.invokeFunction(\n",
              "                'suggestCharts', [key], {});\n",
              "          } catch (error) {\n",
              "            console.error('Error during call to suggestCharts:', error);\n",
              "          }\n",
              "          quickchartButtonEl.classList.remove('colab-df-spinner');\n",
              "          quickchartButtonEl.classList.add('colab-df-quickchart-complete');\n",
              "        }\n",
              "        (() => {\n",
              "          let quickchartButtonEl =\n",
              "            document.querySelector('#df-fb0dad95-662a-4a1b-85ee-b70571e021db button');\n",
              "          quickchartButtonEl.style.display =\n",
              "            google.colab.kernel.accessAllowed ? 'block' : 'none';\n",
              "        })();\n",
              "      </script>\n",
              "    </div>\n",
              "\n",
              "    </div>\n",
              "  </div>\n"
            ],
            "text/plain": [
              "       Date    Open    High     Low   Close      Volume\n",
              "0  1/3/2012  325.25  332.83  324.97  663.59   7,380,500\n",
              "1  1/4/2012  331.27  333.87  329.08  666.45   5,749,400\n",
              "2  1/5/2012  329.83  330.75  326.89  657.21   6,590,300\n",
              "3  1/6/2012  328.34  328.77  323.68  648.24   5,405,900\n",
              "4  1/9/2012  322.04  322.29  309.46  620.76  11,688,800"
            ]
          },
          "execution_count": 2,
          "metadata": {},
          "output_type": "execute_result"
        }
      ],
      "source": [
        "data = pd.read_csv('Google_train_data.csv')  # Reads the CSV file into a DataFrame\n",
        "data.head()"
      ]
    },
    {
      "cell_type": "code",
      "execution_count": null,
      "metadata": {
        "colab": {
          "base_uri": "https://localhost:8080/"
        },
        "id": "Md_v6dvwGEbo",
        "outputId": "ef7d606f-0647-4b35-abf0-f5c0d5ff330c"
      },
      "outputs": [
        {
          "name": "stdout",
          "output_type": "stream",
          "text": [
            "<class 'pandas.core.frame.DataFrame'>\n",
            "RangeIndex: 1258 entries, 0 to 1257\n",
            "Data columns (total 6 columns):\n",
            " #   Column  Non-Null Count  Dtype  \n",
            "---  ------  --------------  -----  \n",
            " 0   Date    1258 non-null   object \n",
            " 1   Open    1258 non-null   float64\n",
            " 2   High    1258 non-null   float64\n",
            " 3   Low     1258 non-null   float64\n",
            " 4   Close   1258 non-null   object \n",
            " 5   Volume  1258 non-null   object \n",
            "dtypes: float64(3), object(3)\n",
            "memory usage: 59.1+ KB\n"
          ]
        }
      ],
      "source": [
        "data.info()"
      ]
    },
    {
      "cell_type": "markdown",
      "metadata": {
        "id": "0EAVgTLDkegr"
      },
      "source": [
        "**Preprocessing the Data**\n",
        "\n",
        "* Converts the 'Close' column to numeric values, coercing errors to NaN. (In the previous `data.info()`, Close column shows `object` instead of `float64`)\n",
        "* Drops rows with NaN values.\n",
        "* Extracts the 'Close' prices for training."
      ]
    },
    {
      "cell_type": "code",
      "execution_count": null,
      "metadata": {
        "id": "IcQBff1mGF03"
      },
      "outputs": [],
      "source": [
        "# converts \"Close\" to float and non-numbers to NaN (using coerce)\n",
        "# data.Close accesses the Close column from the dataset\n",
        "data[\"Close\"] = pd.to_numeric(data.Close, errors = 'coerce') \n",
        "data = data.dropna() # any rows that have NaN are removed from the dataset\n",
        "trainData = data.iloc[:, 4:5].values  # iloc is integer location\n",
        "# Using 4:5 to get a 2D piece, .values makes it a NumPy array"
      ]
    },
    {
      "cell_type": "markdown",
      "metadata": {
        "id": "ESqoFqN71JES"
      },
      "source": [
        "`data.iloc[:, 4]`\n",
        "\n",
        "* This selects the 5th column as a Series (a one-dimensional array).\n",
        "* The result is a 1D array (e.g., `[value1, value2, value3, ...]`).\n",
        "\n",
        "`data.iloc[:, 4:5]`\n",
        "\n",
        "* This selects the 5th column as a DataFrame (a two-dimensional table).\n",
        "* The result is a 2D array with one column (e.g., [`[value1], [value2], [value3], ...]`)."
      ]
    },
    {
      "cell_type": "code",
      "execution_count": null,
      "metadata": {
        "colab": {
          "base_uri": "https://localhost:8080/"
        },
        "id": "hDMovrltGSTY",
        "outputId": "b8981988-e92d-4d67-cc27-4cdf621acc3b"
      },
      "outputs": [
        {
          "name": "stdout",
          "output_type": "stream",
          "text": [
            "<class 'pandas.core.frame.DataFrame'>\n",
            "Index: 1149 entries, 0 to 1257\n",
            "Data columns (total 6 columns):\n",
            " #   Column  Non-Null Count  Dtype  \n",
            "---  ------  --------------  -----  \n",
            " 0   Date    1149 non-null   object \n",
            " 1   Open    1149 non-null   float64\n",
            " 2   High    1149 non-null   float64\n",
            " 3   Low     1149 non-null   float64\n",
            " 4   Close   1149 non-null   float64\n",
            " 5   Volume  1149 non-null   object \n",
            "dtypes: float64(4), object(2)\n",
            "memory usage: 62.8+ KB\n"
          ]
        }
      ],
      "source": [
        "data.info()"
      ]
    },
    {
      "cell_type": "markdown",
      "metadata": {
        "id": "Fbx0iDkVkumR"
      },
      "source": [
        "**Scaling Data**\n",
        "\n",
        "* Scales the 'Close' prices to a range of 0 to 1"
      ]
    },
    {
      "cell_type": "code",
      "execution_count": null,
      "metadata": {
        "colab": {
          "base_uri": "https://localhost:8080/"
        },
        "id": "Fr925ZlUGTn2",
        "outputId": "f6667600-e90a-4957-b92c-ca129d38b3b5"
      },
      "outputs": [
        {
          "data": {
            "text/plain": [
              "(1149, 1)"
            ]
          },
          "execution_count": 6,
          "metadata": {},
          "output_type": "execute_result"
        }
      ],
      "source": [
        "sc = MinMaxScaler(feature_range = (0, 1))\n",
        "trainData = sc.fit_transform(trainData)\n",
        "trainData.shape"
      ]
    },
    {
      "cell_type": "markdown",
      "metadata": {
        "id": "weuq_-Wxk3ES"
      },
      "source": [
        "**Creating Training Data**\n",
        "* The model looks at the last 60 days of stock prices data to predict the 61st day's price\n",
        "* Choosing 60 days as the time step is a balance between having enough data to learn from and not overwhelming the data with too much information\n",
        "* Reshapes the data to fit LSTM input requirements"
      ]
    },
    {
      "cell_type": "markdown",
      "metadata": {
        "id": "L07_EJ842r3A"
      },
      "source": [
        "LSTM models in Keras (and other frameworks) expect input data in a specific 3D shape: `(number of samples, time steps, number of features)`."
      ]
    },
    {
      "cell_type": "code",
      "execution_count": null,
      "metadata": {
        "colab": {
          "base_uri": "https://localhost:8080/"
        },
        "id": "N3lL_5yZGbp3",
        "outputId": "9220757f-d895-405c-fa26-a897034c483f"
      },
      "outputs": [
        {
          "data": {
            "text/plain": [
              "((1089, 60), (1089,))"
            ]
          },
          "execution_count": 10,
          "metadata": {},
          "output_type": "execute_result"
        }
      ],
      "source": [
        "X_train = []\n",
        "y_train = []\n",
        "\n",
        "for i in range (60, 1149):  # 60 is the timestep, 1149 is the length of the data\n",
        "  X_train.append(trainData[i-60:i, 0]) # ,0 is for selecting the column\n",
        "  y_train.append(trainData[i, 0])\n",
        "\n",
        "X_train, y_train = np.array(X_train), np.array(y_train)\n",
        "\n",
        "(X_train.shape, y_train.shape)"
      ]
    },
    {
      "cell_type": "code",
      "execution_count": null,
      "metadata": {
        "colab": {
          "base_uri": "https://localhost:8080/"
        },
        "id": "aT7hfQX3G8sL",
        "outputId": "3a27b640-0f5f-4092-ea2a-031fa9b6140c"
      },
      "outputs": [
        {
          "data": {
            "text/plain": [
              "(1089, 60, 1)"
            ]
          },
          "execution_count": 11,
          "metadata": {},
          "output_type": "execute_result"
        }
      ],
      "source": [
        "X_train = np.reshape(X_train, (X_train.shape[0], X_train.shape[1], 1))  # adding the batch_size axis\n",
        "X_train.shape"
      ]
    },
    {
      "cell_type": "markdown",
      "metadata": {
        "id": "sTM8DDMTlEd2"
      },
      "source": [
        "**Building the LSTM Model**\n",
        "* Defines a Sequential model.\n",
        "* Adds four LSTM layers with 100 units each and Dropout layers to prevent overfitting.\n",
        "* The final Dense layer predicts the stock price.\n",
        "* Compiles the model with 'adam' optimizer and 'mean_squared_error' loss."
      ]
    },
    {
      "cell_type": "code",
      "execution_count": null,
      "metadata": {
        "id": "efLT94RbHI1L"
      },
      "outputs": [],
      "source": [
        "model = Sequential()\n",
        "\n",
        "# Dropout randomly drops 20% of the neurons to prevent overfitting\n",
        "# units = 100 means\n",
        "model.add(LSTM(units = 100, return_sequences = True, input_shape = (X_train.shape[1], 1)))\n",
        "model.add(Dropout(0.2))\n",
        "\n",
        "model.add(LSTM(units = 100, return_sequences = True))\n",
        "model.add(Dropout(0.2))\n",
        "\n",
        "model.add(LSTM(units = 100, return_sequences = True))\n",
        "model.add(Dropout(0.2))\n",
        "\n",
        "model.add(LSTM(units = 100, return_sequences = False))\n",
        "model.add(Dropout(0.2))\n",
        "\n",
        "# Dense Layer - fully connected layer\n",
        "# units = 1 means output only one number\n",
        "model.add(Dense(units = 1))\n",
        "model.compile(optimizer = 'adam', loss = \"mean_squared_error\")"
      ]
    },
    {
      "cell_type": "markdown",
      "metadata": {
        "id": "Q4Ouq3YBlP2a"
      },
      "source": [
        "**Training the model**\n",
        "* Trains the model for 20 epochs with a batch size of 32\n",
        "* `verbose` controls how much information is printed to the console during model training.\n",
        "* `verbose=2` gives a detailed view of each epoch’s training progress, which can be useful for monitoring and debugging the training process."
      ]
    },
    {
      "cell_type": "code",
      "execution_count": null,
      "metadata": {
        "colab": {
          "base_uri": "https://localhost:8080/"
        },
        "id": "DmexNoP2Hzss",
        "outputId": "52793f43-9a7d-4bc7-961f-5378c28e1539"
      },
      "outputs": [
        {
          "name": "stdout",
          "output_type": "stream",
          "text": [
            "Epoch 1/27\n",
            "73/73 - 12s - 167ms/step - loss: 0.0238\n",
            "Epoch 2/27\n",
            "73/73 - 7s - 98ms/step - loss: 0.0092\n",
            "Epoch 3/27\n",
            "73/73 - 10s - 140ms/step - loss: 0.0096\n",
            "Epoch 4/27\n",
            "73/73 - 7s - 95ms/step - loss: 0.0089\n",
            "Epoch 5/27\n",
            "73/73 - 7s - 99ms/step - loss: 0.0066\n",
            "Epoch 6/27\n",
            "73/73 - 10s - 141ms/step - loss: 0.0070\n",
            "Epoch 7/27\n",
            "73/73 - 10s - 140ms/step - loss: 0.0056\n",
            "Epoch 8/27\n",
            "73/73 - 10s - 132ms/step - loss: 0.0055\n",
            "Epoch 9/27\n",
            "73/73 - 10s - 138ms/step - loss: 0.0060\n",
            "Epoch 10/27\n",
            "73/73 - 10s - 138ms/step - loss: 0.0048\n",
            "Epoch 11/27\n",
            "73/73 - 10s - 141ms/step - loss: 0.0049\n",
            "Epoch 12/27\n",
            "73/73 - 10s - 142ms/step - loss: 0.0045\n",
            "Epoch 13/27\n",
            "73/73 - 13s - 178ms/step - loss: 0.0046\n",
            "Epoch 14/27\n",
            "73/73 - 7s - 98ms/step - loss: 0.0044\n",
            "Epoch 15/27\n",
            "73/73 - 6s - 88ms/step - loss: 0.0048\n",
            "Epoch 16/27\n",
            "73/73 - 11s - 151ms/step - loss: 0.0034\n",
            "Epoch 17/27\n",
            "73/73 - 10s - 131ms/step - loss: 0.0041\n",
            "Epoch 18/27\n",
            "73/73 - 10s - 139ms/step - loss: 0.0036\n",
            "Epoch 19/27\n",
            "73/73 - 10s - 143ms/step - loss: 0.0034\n",
            "Epoch 20/27\n",
            "73/73 - 7s - 98ms/step - loss: 0.0031\n",
            "Epoch 21/27\n",
            "73/73 - 6s - 89ms/step - loss: 0.0030\n",
            "Epoch 22/27\n",
            "73/73 - 7s - 96ms/step - loss: 0.0031\n",
            "Epoch 23/27\n",
            "73/73 - 10s - 142ms/step - loss: 0.0032\n",
            "Epoch 24/27\n",
            "73/73 - 7s - 91ms/step - loss: 0.0027\n",
            "Epoch 25/27\n",
            "73/73 - 7s - 101ms/step - loss: 0.0027\n",
            "Epoch 26/27\n",
            "73/73 - 10s - 138ms/step - loss: 0.0029\n",
            "Epoch 27/27\n",
            "73/73 - 11s - 144ms/step - loss: 0.0031\n"
          ]
        }
      ],
      "source": [
        "hist = model.fit(X_train, y_train, epochs = 27, batch_size = 15, verbose = 2)"
      ]
    },
    {
      "cell_type": "code",
      "execution_count": null,
      "metadata": {
        "colab": {
          "base_uri": "https://localhost:8080/",
          "height": 472
        },
        "id": "pnhY8IsZH5k6",
        "outputId": "1a3c1424-0352-4993-ff4e-e5c2abb2964e"
      },
      "outputs": [
        {
          "data": {
            "image/png": "[encoded data removed]",
            "text/plain": [
              "<Figure size 640x480 with 1 Axes>"
            ]
          },
          "metadata": {},
          "output_type": "display_data"
        }
      ],
      "source": [
        "plt.plot(hist.history['loss'])\n",
        "plt.title('Training model loss')\n",
        "plt.ylabel('loss')\n",
        "plt.xlabel('epoch')\n",
        "plt.legend(['train'], loc = 'upper right')\n",
        "plt.show()"
      ]
    },
    {
      "cell_type": "markdown",
      "metadata": {
        "id": "gtvwbs4blii8"
      },
      "source": [
        "**Preparing Test Data for prediction**\n",
        "* Processes the test data similarly to the training data\n",
        "* Scales and reshapes test data for prediction"
      ]
    },
    {
      "cell_type": "code",
      "execution_count": null,
      "metadata": {
        "colab": {
          "base_uri": "https://localhost:8080/"
        },
        "id": "y8VE_-wwIK1T",
        "outputId": "90822e03-7d5a-45a9-ef14-fda85a970ce8"
      },
      "outputs": [
        {
          "data": {
            "text/plain": [
              "(192, 60, 1)"
            ]
          },
          "execution_count": 16,
          "metadata": {},
          "output_type": "execute_result"
        }
      ],
      "source": [
        "testData = pd.read_csv('Google_test_data.csv')\n",
        "testData[\"Close\"] = pd.to_numeric(testData.Close, errors = 'coerce')\n",
        "testData = testData.dropna()\n",
        "testData = testData.iloc[:, 4:5]\n",
        "y_test = testData.iloc[60:, 0:].values\n",
        "# input array for the model\n",
        "inputClosing = testData.iloc[:, 0:].values\n",
        "inputClosing_scaled = sc.transform(inputClosing)\n",
        "inputClosing_scaled.shape\n",
        "X_test = []\n",
        "length = len(testData)\n",
        "timestep = 60\n",
        "for i in range(timestep, length):\n",
        "  X_test.append(inputClosing_scaled[i-timestep:i, 0])\n",
        "X_test = np.array(X_test)\n",
        "X_test = np.reshape(X_test, (X_test.shape[0], X_test.shape[1], 1))\n",
        "X_test.shape"
      ]
    },
    {
      "cell_type": "markdown",
      "metadata": {
        "id": "RYu3ANvUltJY"
      },
      "source": [
        "**Making Predictions**\n",
        "* Uses the model to predict stock prices\n",
        "* Inversely transforms the predictions to the original scale"
      ]
    },
    {
      "cell_type": "code",
      "execution_count": null,
      "metadata": {
        "colab": {
          "base_uri": "https://localhost:8080/"
        },
        "id": "aJMVYaozJolD",
        "outputId": "ec7af736-8a5b-4d31-8f41-bb453f1b2379"
      },
      "outputs": [
        {
          "name": "stdout",
          "output_type": "stream",
          "text": [
            "\u001b[1m6/6\u001b[0m \u001b[32m━━━━━━━━━━━━━━━━━━━━\u001b[0m\u001b[37m\u001b[0m \u001b[1m1s\u001b[0m 37ms/step\n"
          ]
        }
      ],
      "source": [
        "y_pred = model.predict(X_test)"
      ]
    },
    {
      "cell_type": "code",
      "execution_count": null,
      "metadata": {
        "id": "5h8Jh56YJr35"
      },
      "outputs": [],
      "source": [
        "predicted_price = sc.inverse_transform(y_pred)"
      ]
    },
    {
      "cell_type": "markdown",
      "metadata": {
        "id": "Vp4uDrYgl25t"
      },
      "source": [
        "**Plotting predictions vs Actual Prices**\n",
        "* Plots actual vs predicted prices"
      ]
    },
    {
      "cell_type": "code",
      "execution_count": null,
      "metadata": {
        "colab": {
          "base_uri": "https://localhost:8080/",
          "height": 472
        },
        "id": "hPX7rZG7JvQH",
        "outputId": "46facb3f-78eb-4852-d14d-db574c03a1a2"
      },
      "outputs": [
        {
          "data": {
            "image/png": "[encoded data removed]",
            "text/plain": [
              "<Figure size 640x480 with 1 Axes>"
            ]
          },
          "metadata": {},
          "output_type": "display_data"
        }
      ],
      "source": [
        "plt.plot(y_test, color = 'red', label ='Actual Stock Price')\n",
        "plt.plot(predicted_price, color = 'green', label ='Predicted Stock Price')\n",
        "plt.title('Google stock price prediction')\n",
        "plt.xlabel('Time')\n",
        "plt.ylabel('Stock Price')\n",
        "plt.legend()\n",
        "plt.show()"
      ]
    },
    {
      "cell_type": "markdown",
      "metadata": {
        "id": "HBs_YzRxmkvL"
      },
      "source": [
        "Quantifying quality of prediction:\n",
        "* MSE - Mean Squared Error\n",
        "* RMSE - Root Mean Squared Error\n",
        "* R-squared ($R^2$) score"
      ]
    },
    {
      "cell_type": "code",
      "execution_count": null,
      "metadata": {
        "colab": {
          "base_uri": "https://localhost:8080/"
        },
        "id": "ZRa6LpDOmw6v",
        "outputId": "8549032f-a639-47f3-be3b-cde60aff4114"
      },
      "outputs": [
        {
          "name": "stdout",
          "output_type": "stream",
          "text": [
            "Mean Squared Error (MSE): 4143.436932999374\n",
            "Root Mean Squared Error (RMSE): 64.36953419902441\n"
          ]
        }
      ],
      "source": [
        "# Calculate Mean Squared Error\n",
        "mse = mean_squared_error(y_test, predicted_price)\n",
        "\n",
        "# Calculate Root Mean Squared Error\n",
        "rmse = np.sqrt(mse)\n",
        "\n",
        "# Print the results\n",
        "print(f\"Mean Squared Error (MSE): {mse}\")\n",
        "print(f\"Root Mean Squared Error (RMSE): {rmse}\")"
      ]
    },
    {
      "cell_type": "code",
      "execution_count": null,
      "metadata": {
        "colab": {
          "base_uri": "https://localhost:8080/"
        },
        "id": "hOZtmjnOnVwk",
        "outputId": "f914043d-849a-4387-f354-5627955e1033"
      },
      "outputs": [
        {
          "name": "stdout",
          "output_type": "stream",
          "text": [
            "R-squared (R²) Score: 0.004613824636063857\n"
          ]
        }
      ],
      "source": [
        "# Calculate R-squared\n",
        "r2 = r2_score(y_test, predicted_price)\n",
        "\n",
        "# Print the result\n",
        "print(f\"R-squared (R²) Score: {r2}\")"
      ]
    },
    {
      "cell_type": "code",
      "execution_count": null,
      "metadata": {
        "colab": {
          "base_uri": "https://localhost:8080/"
        },
        "id": "HSksemSg830P",
        "outputId": "eb99e9b0-7f62-4c16-e530-97555cbb20f0"
      },
      "outputs": [
        {
          "name": "stdout",
          "output_type": "stream",
          "text": [
            "MAPE: 6.85%\n"
          ]
        }
      ],
      "source": [
        "# Assuming y_test contains the actual test values and y_pred contains the predicted values\n",
        "def mean_absolute_percentage_error(y_true, y_pred):\n",
        "    y_true, y_pred = np.array(y_true), np.array(y_pred)\n",
        "    nonzero_elements = y_true != 0\n",
        "    return np.mean(np.abs((y_true[nonzero_elements] - y_pred[nonzero_elements]) / y_true[nonzero_elements])) * 100\n",
        "\n",
        "# Example usage\n",
        "# Replace these with your actual test and predicted values\n",
        "y_test = np.array(testData.iloc[60:, 0])  # Actual values from your test data\n",
        "y_pred = np.array(predicted_price)         # Predicted values from your model\n",
        "\n",
        "mape = mean_absolute_percentage_error(y_test, y_pred)\n",
        "print(f'MAPE: {mape:.2f}%')"
      ]
    }
  ],
  "metadata": {
    "colab": {
      "provenance": []
    },
    "kernelspec": {
      "display_name": "Python 3",
      "name": "python3"
    },
    "language_info": {
      "name": "python"
    }
  },
  "nbformat": 4,
  "nbformat_minor": 0
}
